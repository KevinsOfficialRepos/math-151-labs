{
 "cells": [
  {
   "cell_type": "markdown",
   "id": "20c00fa5",
   "metadata": {
    "id": "20c00fa5"
   },
   "source": [
    "## MATH 151 Lab  4"
   ]
  },
  {
   "cell_type": "markdown",
   "id": "7c243ef1",
   "metadata": {
    "id": "7c243ef1"
   },
   "source": [
    "Put team members' names and section number here."
   ]
  },
  {
   "cell_type": "code",
   "execution_count": 2,
   "id": "cf836732",
   "metadata": {
    "id": "cf836732"
   },
   "outputs": [],
   "source": [
    "import sympy as sp\n",
    "from sympy.plotting import (plot,plot_parametric, plot_implicit)"
   ]
  },
  {
   "cell_type": "markdown",
   "id": "3169990f",
   "metadata": {
    "id": "3169990f"
   },
   "source": [
    "### Question 1"
   ]
  },
  {
   "cell_type": "markdown",
   "id": "f0561a86",
   "metadata": {
    "id": "f0561a86"
   },
   "source": [
    "#### 1a"
   ]
  },
  {
   "cell_type": "code",
   "execution_count": 3,
   "id": "0889599a",
   "metadata": {
    "id": "0889599a"
   },
   "outputs": [],
   "source": [
    "# Enter your code here\n",
    "\n"
   ]
  },
  {
   "cell_type": "markdown",
   "id": "efdd616f",
   "metadata": {
    "id": "efdd616f"
   },
   "source": [
    "#### 1b"
   ]
  },
  {
   "cell_type": "code",
   "execution_count": 4,
   "id": "582449e5",
   "metadata": {
    "id": "582449e5"
   },
   "outputs": [],
   "source": [
    "# Enter your code here\n",
    "\n"
   ]
  },
  {
   "cell_type": "markdown",
   "id": "0721fb00",
   "metadata": {
    "id": "0721fb00"
   },
   "source": [
    "#### 1c"
   ]
  },
  {
   "cell_type": "code",
   "execution_count": 5,
   "id": "dd38ebc1",
   "metadata": {
    "id": "dd38ebc1"
   },
   "outputs": [],
   "source": [
    "# Enter your code here\n",
    "\n"
   ]
  },
  {
   "cell_type": "markdown",
   "id": "8b00f000",
   "metadata": {
    "id": "8b00f000"
   },
   "source": [
    "### Question 2"
   ]
  },
  {
   "cell_type": "markdown",
   "id": "bacdc1db",
   "metadata": {
    "id": "bacdc1db"
   },
   "source": [
    "#### 2a"
   ]
  },
  {
   "cell_type": "code",
   "execution_count": 6,
   "id": "be2f2c71",
   "metadata": {
    "id": "be2f2c71"
   },
   "outputs": [],
   "source": [
    "# Enter your code here\n",
    "\n"
   ]
  },
  {
   "cell_type": "markdown",
   "id": "23bc68a6",
   "metadata": {
    "id": "23bc68a6"
   },
   "source": [
    "#### 2b"
   ]
  },
  {
   "cell_type": "code",
   "execution_count": 7,
   "id": "357bbf0f",
   "metadata": {
    "id": "357bbf0f"
   },
   "outputs": [],
   "source": [
    "# Enter your code here\n",
    "\n"
   ]
  },
  {
   "cell_type": "markdown",
   "id": "1fb8b9b8",
   "metadata": {
    "id": "1fb8b9b8"
   },
   "source": [
    "### Question 3"
   ]
  },
  {
   "cell_type": "markdown",
   "id": "ccffd0d0",
   "metadata": {
    "id": "ccffd0d0"
   },
   "source": [
    "#### 3a"
   ]
  },
  {
   "cell_type": "code",
   "execution_count": 8,
   "id": "3ce0b4af",
   "metadata": {
    "id": "3ce0b4af"
   },
   "outputs": [
    {
     "name": "stdout",
     "output_type": "stream",
     "text": [
      "-2*sin(2*x) + 2*cos(2*x)\n",
      "-4*sin(2*x) - 4*cos(2*x)\n",
      "8*sin(2*x) - 8*cos(2*x)\n",
      "16*sin(2*x) + 16*cos(2*x)\n"
     ]
    }
   ],
   "source": [
    "# Enter your code here\n",
    "x = sp.symbols(\"x\")\n",
    "f = sp.sin(2*x) + sp.cos(2*x)\n",
    "f_prime_1 = sp.diff(f, x)\n",
    "print(f_prime_1)\n",
    "f_prime_2 = sp.diff(f_prime_1, x)\n",
    "print(f_prime_2)\n",
    "f_prime_3 = sp.diff(f_prime_2, x)\n",
    "print(f_prime_3)\n",
    "f_prime_4 = sp.diff(f_prime_3, x)\n",
    "print(f_prime_4)\n"
   ]
  },
  {
   "cell_type": "markdown",
   "id": "NDBe01v2fM5P",
   "metadata": {
    "id": "NDBe01v2fM5P"
   },
   "source": [
    "#### 3b"
   ]
  },
  {
   "cell_type": "code",
   "execution_count": 12,
   "id": "HAXEtWUpfO6T",
   "metadata": {
    "id": "HAXEtWUpfO6T"
   },
   "outputs": [
    {
     "name": "stdout",
     "output_type": "stream",
     "text": [
      "-32*sin(2*x) + 32*cos(2*x)\n",
      "-64*sin(2*x) - 64*cos(2*x)\n",
      "128*sin(2*x) - 128*cos(2*x)\n",
      "256*sin(2*x) + 256*cos(2*x)\n"
     ]
    }
   ],
   "source": [
    "# Enter your code here\n",
    "for i in range(5, 9):\n",
    "    f = sp.diff(f, x)\n",
    "    print(f)\n"
   ]
  },
  {
   "cell_type": "markdown",
   "id": "uZ7fxcujwb4g",
   "metadata": {
    "id": "uZ7fxcujwb4g"
   },
   "source": [
    "#### 3c"
   ]
  },
  {
   "cell_type": "code",
   "execution_count": null,
   "id": "_PD0D8FHj1J1",
   "metadata": {
    "id": "_PD0D8FHj1J1"
   },
   "outputs": [],
   "source": [
    "# Enter your answer here as either a set of comments or print statements.\n",
    "print(\"The derivatives repeat every four derivatives so f^(4)(x) = f(x) with the only difference being the coefficient^4.\")"
   ]
  }
 ],
 "metadata": {
  "colab": {
   "provenance": []
  },
  "kernelspec": {
   "display_name": "Python 3",
   "language": "python",
   "name": "python3"
  },
  "language_info": {
   "codemirror_mode": {
    "name": "ipython",
    "version": 3
   },
   "file_extension": ".py",
   "mimetype": "text/x-python",
   "name": "python",
   "nbconvert_exporter": "python",
   "pygments_lexer": "ipython3",
   "version": "3.12.6"
  }
 },
 "nbformat": 4,
 "nbformat_minor": 5
}
