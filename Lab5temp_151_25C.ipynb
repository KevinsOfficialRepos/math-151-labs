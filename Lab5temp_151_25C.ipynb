{
 "cells": [
  {
   "cell_type": "markdown",
   "id": "20c00fa5",
   "metadata": {
    "id": "20c00fa5"
   },
   "source": [
    "## MATH 151 Lab  5"
   ]
  },
  {
   "cell_type": "markdown",
   "id": "7c243ef1",
   "metadata": {
    "id": "7c243ef1"
   },
   "source": [
    "Put team members' names and section number here."
   ]
  },
  {
   "cell_type": "code",
   "execution_count": 2,
   "id": "cf836732",
   "metadata": {
    "id": "cf836732"
   },
   "outputs": [],
   "source": [
    "import sympy as sp\n",
    "from sympy.plotting import (plot,plot_parametric,plot_implicit)\n",
    "x, y, C = sp.symbols('x y C', real = True)"
   ]
  },
  {
   "cell_type": "markdown",
   "id": "3169990f",
   "metadata": {
    "id": "3169990f"
   },
   "source": [
    "### Question 1"
   ]
  },
  {
   "cell_type": "markdown",
   "id": "f0561a86",
   "metadata": {
    "id": "f0561a86"
   },
   "source": [
    "#### 1a"
   ]
  },
  {
   "cell_type": "code",
   "execution_count": 3,
   "id": "cbfab3f6",
   "metadata": {
    "id": "cbfab3f6"
   },
   "outputs": [],
   "source": [
    "# Enter your code here\n",
    "\n"
   ]
  },
  {
   "cell_type": "markdown",
   "id": "efdd616f",
   "metadata": {
    "id": "efdd616f"
   },
   "source": [
    "#### 1b"
   ]
  },
  {
   "cell_type": "code",
   "execution_count": 4,
   "id": "6fd5ac31",
   "metadata": {
    "id": "6fd5ac31"
   },
   "outputs": [],
   "source": [
    "# Enter your code here\n",
    "\n"
   ]
  },
  {
   "cell_type": "markdown",
   "id": "Z7AnDfmG32fJ",
   "metadata": {
    "id": "Z7AnDfmG32fJ"
   },
   "source": [
    "#### 1c"
   ]
  },
  {
   "cell_type": "code",
   "execution_count": 5,
   "id": "ussi6oq732qz",
   "metadata": {
    "id": "ussi6oq732qz"
   },
   "outputs": [],
   "source": [
    "# Enter your code here\n",
    "\n"
   ]
  },
  {
   "cell_type": "markdown",
   "id": "-eCIIU2iqyT3",
   "metadata": {
    "id": "-eCIIU2iqyT3"
   },
   "source": [
    "####1d"
   ]
  },
  {
   "cell_type": "code",
   "execution_count": 6,
   "id": "hEqBRuYGqxqt",
   "metadata": {
    "id": "hEqBRuYGqxqt"
   },
   "outputs": [],
   "source": [
    "# Enter your code here\n",
    "\n"
   ]
  },
  {
   "cell_type": "markdown",
   "id": "HquhWmTeqzsK",
   "metadata": {
    "id": "HquhWmTeqzsK"
   },
   "source": [
    "####1e"
   ]
  },
  {
   "cell_type": "code",
   "execution_count": 7,
   "id": "_oVx-iPGqx_3",
   "metadata": {
    "id": "_oVx-iPGqx_3"
   },
   "outputs": [],
   "source": [
    "# Enter your code here\n",
    "\n"
   ]
  },
  {
   "cell_type": "markdown",
   "id": "8b00f000",
   "metadata": {
    "id": "8b00f000"
   },
   "source": [
    "### Question 2"
   ]
  },
  {
   "cell_type": "markdown",
   "id": "bacdc1db",
   "metadata": {
    "id": "bacdc1db"
   },
   "source": [
    "#### 2a"
   ]
  },
  {
   "cell_type": "code",
   "execution_count": 8,
   "id": "be2f2c71",
   "metadata": {
    "id": "be2f2c71"
   },
   "outputs": [],
   "source": [
    "# Enter your code here\n",
    "\n"
   ]
  },
  {
   "cell_type": "markdown",
   "id": "23bc68a6",
   "metadata": {
    "id": "23bc68a6"
   },
   "source": [
    "#### 2b"
   ]
  },
  {
   "cell_type": "code",
   "execution_count": 9,
   "id": "rMpWKB2yOPY9",
   "metadata": {
    "id": "rMpWKB2yOPY9"
   },
   "outputs": [],
   "source": [
    "# Enter your code here\n",
    "\n"
   ]
  },
  {
   "cell_type": "markdown",
   "id": "1fb8b9b8",
   "metadata": {
    "id": "1fb8b9b8"
   },
   "source": [
    "### Question 3"
   ]
  },
  {
   "cell_type": "markdown",
   "id": "ccffd0d0",
   "metadata": {
    "id": "ccffd0d0"
   },
   "source": [
    "#### 3a"
   ]
  },
  {
   "cell_type": "code",
   "execution_count": 18,
   "id": "9ebb9309",
   "metadata": {
    "id": "9ebb9309"
   },
   "outputs": [
    {
     "data": {
      "text/latex": [
       "$\\displaystyle \\frac{x \\left(a^{2} - x^{2} - y^{2}\\right)}{y \\left(a^{2} + x^{2} + y^{2}\\right)}$"
      ],
      "text/plain": [
       "x*(a**2 - x**2 - y**2)/(y*(a**2 + x**2 + y**2))"
      ]
     },
     "execution_count": 18,
     "metadata": {},
     "output_type": "execute_result"
    }
   ],
   "source": [
    "# Enter your code here\n",
    "# solve for y in the equation (x^2 + y^2 + a^2)^2 - 4*a^2*x^2 = c^4 and use implicit differentiation to find dy/dx\n",
    "x, y, a, c = sp.symbols('x y a c', real = True, positive = True)\n",
    "eq = (x**2 + y**2 + a**2)**2 - 4*a**2*x**2 - c**4\n",
    "dydx = sp.symbols('dydx')\n",
    "chain_rule = sp.diff(eq, x) + sp.diff(eq,y)*dydx\n",
    "dy_dx = sp.solve(sp.Eq(chain_rule, 0), dydx)[0]\n",
    "sp.simplify(dy_dx)"
   ]
  },
  {
   "cell_type": "markdown",
   "id": "fe9124f0",
   "metadata": {
    "id": "fe9124f0"
   },
   "source": [
    "#### 3b"
   ]
  },
  {
   "cell_type": "code",
   "execution_count": null,
   "id": "e3ce770f",
   "metadata": {
    "id": "e3ce770f"
   },
   "outputs": [
    {
     "ename": "NameError",
     "evalue": "name 'dy_dx' is not defined",
     "output_type": "error",
     "traceback": [
      "\u001b[1;31m---------------------------------------------------------------------------\u001b[0m",
      "\u001b[1;31mNameError\u001b[0m                                 Traceback (most recent call last)",
      "Cell \u001b[1;32mIn[11], line 3\u001b[0m\n\u001b[0;32m      1\u001b[0m \u001b[38;5;66;03m# Enter your code here\u001b[39;00m\n\u001b[0;32m      2\u001b[0m a \u001b[38;5;241m=\u001b[39m \u001b[38;5;241m1\u001b[39m\n\u001b[1;32m----> 3\u001b[0m dy2_dx2 \u001b[38;5;241m=\u001b[39m sp\u001b[38;5;241m.\u001b[39mdiff(\u001b[43mdy_dx\u001b[49m\u001b[38;5;241m.\u001b[39msubs(a, \u001b[38;5;241m1\u001b[39m), x)\u001b[38;5;241m.\u001b[39msimplify()\n\u001b[0;32m      4\u001b[0m sp\u001b[38;5;241m.\u001b[39mpprint(\u001b[38;5;124mf\u001b[39m\u001b[38;5;124m\"\u001b[39m\u001b[38;5;124mSecond derivative dy^2/dx^2 when a=1: \u001b[39m\u001b[38;5;132;01m{\u001b[39;00mdy2_dx2\u001b[38;5;132;01m}\u001b[39;00m\u001b[38;5;124m\"\u001b[39m)\n\u001b[0;32m      5\u001b[0m \u001b[38;5;66;03m# That doesnt look right...\u001b[39;00m\n",
      "\u001b[1;31mNameError\u001b[0m: name 'dy_dx' is not defined"
     ]
    }
   ],
   "source": [
    "# Enter your code here\n",
    "dy2_dx2 = sp.diff(dy_dx.subs(a, 1), x).simplify()\n",
    "sp.pprint(f\"Second derivative dy^2/dx^2 when a=1: {dy2_dx2}\")\n",
    "# That doesnt look right..."
   ]
  },
  {
   "cell_type": "markdown",
   "id": "285d9dfd",
   "metadata": {
    "id": "285d9dfd"
   },
   "source": [
    "#### 3c"
   ]
  },
  {
   "cell_type": "code",
   "execution_count": null,
   "id": "5387ad0c",
   "metadata": {
    "id": "5387ad0c"
   },
   "outputs": [
    {
     "name": "stdout",
     "output_type": "stream",
     "text": [
      "Horizontal tangents at x = [0, -sqrt(a**4 - 4)/a, sqrt(a**4 - 4)/a]\n",
      "Vertical tangents at x = [-sqrt(a**2 - 4), sqrt(a**2 - 4), -sqrt(a**2 + 4), sq ↪\n",
      "\n",
      "↪ rt(a**2 + 4)]\n"
     ]
    }
   ],
   "source": [
    "# Enter your code here\n",
    "a = 1\n",
    "c = 2\n",
    "dy_dx_val = dy_dx.subs({a: 1, c: 2}).simplify()\n",
    "horizontal_tangents = sp.solve(dy_dx.subs({a: 1, c: 2}), x)\n",
    "vertical_tangents = sp.solve(sp.denom(dy_dx).subs({a: 1, c: 2}), x)\n",
    "sp.pprint(f\"Horizontal tangents at x = {horizontal_tangents}\")\n",
    "sp.pprint(f\"Vertical tangents at x = {vertical_tangents}\")\n"
   ]
  }
 ],
 "metadata": {
  "colab": {
   "provenance": [
    {
     "file_id": "1sdqFHr7OZkOfZYmu7TXNx3UVH4W-VZVt",
     "timestamp": 1674438958218
    }
   ]
  },
  "kernelspec": {
   "display_name": "Python 3",
   "language": "python",
   "name": "python3"
  },
  "language_info": {
   "codemirror_mode": {
    "name": "ipython",
    "version": 3
   },
   "file_extension": ".py",
   "mimetype": "text/x-python",
   "name": "python",
   "nbconvert_exporter": "python",
   "pygments_lexer": "ipython3",
   "version": "3.12.6"
  }
 },
 "nbformat": 4,
 "nbformat_minor": 5
}
