{
 "cells": [
  {
   "cell_type": "markdown",
   "id": "20c00fa5",
   "metadata": {
    "id": "20c00fa5"
   },
   "source": [
    "## MATH 151 Lab  3"
   ]
  },
  {
   "cell_type": "markdown",
   "id": "7c243ef1",
   "metadata": {
    "id": "7c243ef1"
   },
   "source": [
    "Put team members' names and section number here."
   ]
  },
  {
   "cell_type": "code",
   "execution_count": 100,
   "id": "cf836732",
   "metadata": {
    "id": "cf836732"
   },
   "outputs": [],
   "source": [
    "import sympy as sp\n",
    "from sympy.plotting import (plot,plot_parametric)"
   ]
  },
  {
   "cell_type": "markdown",
   "id": "8b00f000",
   "metadata": {
    "id": "8b00f000"
   },
   "source": [
    "### Question 1"
   ]
  },
  {
   "cell_type": "markdown",
   "id": "bacdc1db",
   "metadata": {
    "id": "bacdc1db"
   },
   "source": [
    "#### 1a"
   ]
  },
  {
   "cell_type": "code",
   "execution_count": 101,
   "id": "be2f2c71",
   "metadata": {
    "id": "be2f2c71"
   },
   "outputs": [
    {
     "name": "stdout",
     "output_type": "stream",
     "text": [
      "a⋅b + √3\n",
      "b⋅log(3) + 9\n"
     ]
    }
   ],
   "source": [
    "# Start your code here\n",
    "x, a, b = sp.symbols('x a b', real=True)\n",
    "f1 = a*sp.exp(x) + sp.sin(b*x)\n",
    "f2 = b*sp.log(x) + x**2\n",
    "f3 = sp.sqrt(x) + a*b\n",
    "\n",
    "lim_3_minus = sp.limit(f3, x, 3, dir='-')\n",
    "lim_3_plus = sp.limit(f2, x, 3, dir='+')\n",
    "sp.pprint(lim_3_minus)\n",
    "sp.pprint(lim_3_plus)"
   ]
  },
  {
   "cell_type": "markdown",
   "id": "xg8PJPwLbt_V",
   "metadata": {
    "id": "xg8PJPwLbt_V"
   },
   "source": [
    "#### 1b"
   ]
  },
  {
   "cell_type": "code",
   "execution_count": 104,
   "id": "laXcXuIObvKL",
   "metadata": {
    "id": "laXcXuIObvKL"
   },
   "outputs": [
    {
     "name": "stdout",
     "output_type": "stream",
     "text": [
      "1\n",
      "ℯ⋅a + sin(b)\n"
     ]
    }
   ],
   "source": [
    "# Start your code here\n",
    "lim_1_minus = sp.limit(f2, x, 1, dir='-')\n",
    "lim_1_plus = sp.limit(f1, x, 1, dir='+')\n",
    "sp.pprint(lim_1_minus)\n",
    "sp.pprint(lim_1_plus)"
   ]
  },
  {
   "cell_type": "markdown",
   "id": "23bc68a6",
   "metadata": {
    "id": "23bc68a6"
   },
   "source": [
    "#### 1c"
   ]
  },
  {
   "cell_type": "code",
   "execution_count": 105,
   "id": "357bbf0f",
   "metadata": {
    "id": "357bbf0f"
   },
   "outputs": [
    {
     "name": "stdout",
     "output_type": "stream",
     "text": [
      "⎡0.613352297164233⎤\n",
      "⎢                 ⎥\n",
      "⎣-14.9774333752653⎦\n"
     ]
    }
   ],
   "source": [
    "# Start your code here\n",
    "# Find the values of the coefficients a and b such that f is continuous on its domain. (You may need to use sp.nsolve for this. To use it with multiple equations at once, the syntax is sp.nsolve( [equation1,equation2], [variable1,variable2], [guess1,guess2] ) where “guess” means a starting guess for that variable. I recommend 0 for a starting guess for both.)\n",
    "equation1 = lim_3_minus - lim_3_plus\n",
    "equation2 = lim_1_minus - lim_1_plus\n",
    "solution = sp.nsolve( [equation1,equation2], [a,b], [0,0] )\n",
    "sp.pprint(solution)"
   ]
  },
  {
   "cell_type": "markdown",
   "id": "1fb8b9b8",
   "metadata": {
    "id": "1fb8b9b8"
   },
   "source": [
    "### Question 2"
   ]
  },
  {
   "cell_type": "markdown",
   "id": "ccffd0d0",
   "metadata": {
    "id": "ccffd0d0"
   },
   "source": [
    "#### 2a"
   ]
  },
  {
   "cell_type": "code",
   "execution_count": null,
   "id": "9ebb9309",
   "metadata": {
    "id": "9ebb9309"
   },
   "outputs": [],
   "source": [
    "# Start your code here\n",
    "\n"
   ]
  },
  {
   "cell_type": "markdown",
   "id": "1c0a84ba",
   "metadata": {
    "id": "1c0a84ba"
   },
   "source": [
    "#### 2b"
   ]
  },
  {
   "cell_type": "code",
   "execution_count": null,
   "id": "4bbc7faf",
   "metadata": {
    "id": "4bbc7faf"
   },
   "outputs": [],
   "source": [
    "# Start your code here\n",
    "\n"
   ]
  },
  {
   "cell_type": "markdown",
   "id": "3169990f",
   "metadata": {
    "id": "3169990f"
   },
   "source": [
    "### Question 3"
   ]
  },
  {
   "cell_type": "markdown",
   "id": "3c4f4bac",
   "metadata": {
    "id": "3c4f4bac"
   },
   "source": [
    "#### 3a"
   ]
  },
  {
   "cell_type": "code",
   "execution_count": null,
   "id": "b1fc832a",
   "metadata": {
    "id": "b1fc832a"
   },
   "outputs": [],
   "source": [
    "# Start your code here\n",
    "\n"
   ]
  },
  {
   "cell_type": "markdown",
   "id": "65Bb88f_K6qA",
   "metadata": {
    "id": "65Bb88f_K6qA"
   },
   "source": [
    "#### 3b"
   ]
  },
  {
   "cell_type": "code",
   "execution_count": null,
   "id": "4qXGDGyJK594",
   "metadata": {
    "id": "4qXGDGyJK594"
   },
   "outputs": [],
   "source": [
    "# Start your code here\n",
    "\n"
   ]
  },
  {
   "cell_type": "markdown",
   "id": "f0561a86",
   "metadata": {
    "id": "f0561a86"
   },
   "source": [
    "#### 3c"
   ]
  },
  {
   "cell_type": "code",
   "execution_count": null,
   "id": "0889599a",
   "metadata": {
    "id": "0889599a"
   },
   "outputs": [],
   "source": [
    "# Start your code here\n",
    "\n"
   ]
  },
  {
   "cell_type": "markdown",
   "id": "80JdZClaMGeQ",
   "metadata": {
    "id": "80JdZClaMGeQ"
   },
   "source": [
    "#### 3d"
   ]
  },
  {
   "cell_type": "code",
   "execution_count": null,
   "id": "311a556a",
   "metadata": {
    "id": "311a556a"
   },
   "outputs": [],
   "source": [
    "# Start your code here\n",
    "\n"
   ]
  },
  {
   "cell_type": "markdown",
   "id": "z4nVblzKQU1q",
   "metadata": {
    "id": "z4nVblzKQU1q"
   },
   "source": [
    "#### 3e"
   ]
  },
  {
   "cell_type": "code",
   "execution_count": null,
   "id": "54YElK12QVgq",
   "metadata": {
    "id": "54YElK12QVgq"
   },
   "outputs": [],
   "source": [
    "# Start your code here\n",
    "\n"
   ]
  }
 ],
 "metadata": {
  "colab": {
   "provenance": []
  },
  "kernelspec": {
   "display_name": "Python 3",
   "language": "python",
   "name": "python3"
  },
  "language_info": {
   "codemirror_mode": {
    "name": "ipython",
    "version": 3
   },
   "file_extension": ".py",
   "mimetype": "text/x-python",
   "name": "python",
   "nbconvert_exporter": "python",
   "pygments_lexer": "ipython3",
   "version": "3.12.6"
  }
 },
 "nbformat": 4,
 "nbformat_minor": 5
}
